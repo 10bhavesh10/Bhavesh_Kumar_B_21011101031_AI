{
 "cells": [
  {
   "cell_type": "code",
   "execution_count": 1,
   "id": "d57bd904",
   "metadata": {},
   "outputs": [],
   "source": [
    "import numpy as np"
   ]
  },
  {
   "cell_type": "markdown",
   "id": "f3feb8fb",
   "metadata": {},
   "source": [
    "###  Input Features"
   ]
  },
  {
   "cell_type": "code",
   "execution_count": 2,
   "id": "08ce57f2",
   "metadata": {},
   "outputs": [
    {
     "name": "stdout",
     "output_type": "stream",
     "text": [
      "[[0 0]\n",
      " [0 1]\n",
      " [1 0]\n",
      " [1 1]]\n"
     ]
    }
   ],
   "source": [
    "input_feat= np.array([[0,0],[0,1],[1,0],[1,1]])\n",
    "print(input_feat)"
   ]
  },
  {
   "cell_type": "markdown",
   "id": "0cafb561",
   "metadata": {},
   "source": [
    "### Output Features"
   ]
  },
  {
   "cell_type": "code",
   "execution_count": 3,
   "id": "1146caf0",
   "metadata": {},
   "outputs": [
    {
     "name": "stdout",
     "output_type": "stream",
     "text": [
      "[[0 0 0 1]]\n",
      "(1, 4)\n",
      "[[0]\n",
      " [0]\n",
      " [0]\n",
      " [1]]\n"
     ]
    }
   ],
   "source": [
    "output_feat = np.array([[0,0,0,1]])\n",
    "print(output_feat)\n",
    "print(output_feat.shape)\n",
    "output_feat = output_feat.reshape(4,1)\n",
    "\n",
    "print(output_feat)"
   ]
  },
  {
   "cell_type": "markdown",
   "id": "e9ba349c",
   "metadata": {},
   "source": [
    "### Assigning weights "
   ]
  },
  {
   "cell_type": "code",
   "execution_count": 4,
   "id": "2f3ad18d",
   "metadata": {},
   "outputs": [
    {
     "name": "stdout",
     "output_type": "stream",
     "text": [
      "Weights Shape (2, 1)\n",
      "[[0.2]\n",
      " [0.3]]\n"
     ]
    }
   ],
   "source": [
    "weights = np.array([[0.2],[0.3]])\n",
    "print(\"Weights Shape\",weights.shape)    \n",
    "print(weights)"
   ]
  },
  {
   "cell_type": "markdown",
   "id": "2a76bd88",
   "metadata": {},
   "source": [
    "#### Addition of Learning Rate and Bias"
   ]
  },
  {
   "cell_type": "code",
   "execution_count": 5,
   "id": "0da18380",
   "metadata": {},
   "outputs": [],
   "source": [
    "lr = 0.05   \n",
    "bias = 0.3  "
   ]
  },
  {
   "cell_type": "markdown",
   "id": "311733c5",
   "metadata": {},
   "source": [
    "#### Sigmoid Function"
   ]
  },
  {
   "cell_type": "code",
   "execution_count": 6,
   "id": "e328ac73",
   "metadata": {},
   "outputs": [],
   "source": [
    "def sigmoid(x):\n",
    "    return 1/(1+np.exp(-x))     # 1/1+e^-x  rnage of values from 0~1"
   ]
  },
  {
   "cell_type": "markdown",
   "id": "49428652",
   "metadata": {},
   "source": [
    "#### Derivative of Sigmoid function"
   ]
  },
  {
   "cell_type": "code",
   "execution_count": 7,
   "id": "eb4908a3",
   "metadata": {},
   "outputs": [],
   "source": [
    "def sigmoid_der(x):\n",
    "    return sigmoid(x)*(1-sigmoid(x))"
   ]
  },
  {
   "cell_type": "markdown",
   "id": "838b5ab3",
   "metadata": {},
   "source": [
    "#### Training and updation of weigths"
   ]
  },
  {
   "cell_type": "code",
   "execution_count": 9,
   "id": "cf4f494b",
   "metadata": {},
   "outputs": [],
   "source": [
    "\n",
    "\n",
    "for i in range(50000):\n",
    "    inputs = input_feat\n",
    "   # print(inputs.shape)\n",
    "    in_o = np.dot(inputs,weights) + bias\n",
    "    out_o = sigmoid(in_o)\n",
    "    error = (out_o - output_feat)     \n",
    "    x = error.sum()\n",
    "  #  print(x)\n",
    "    derror_douto = error\n",
    "    dout_din = sigmoid_der(out_o)\n",
    "    deriv = derror_douto * dout_din\n",
    "    inputs = input_feat.T\n",
    "    #print(inputs.shape)\n",
    "    deriv_final = np.dot(inputs,deriv)\n",
    "   # print(deriv_final.shape)\n",
    "    #updating the weights\n",
    "    weights -= lr * deriv_final\n",
    "    #print(weights.shape)\n",
    "    for i in deriv:\n",
    "        bias -= lr * i\n"
   ]
  },
  {
   "cell_type": "markdown",
   "id": "3d98bec9",
   "metadata": {},
   "source": [
    "#### Checking Value of weights and Bias"
   ]
  },
  {
   "cell_type": "code",
   "execution_count": 10,
   "id": "7f5e620f",
   "metadata": {},
   "outputs": [
    {
     "name": "stdout",
     "output_type": "stream",
     "text": [
      "[[9.04827674]\n",
      " [9.04827674]]\n",
      "[-13.86063047]\n"
     ]
    }
   ],
   "source": [
    "print(weights)\n",
    "print(bias)"
   ]
  },
  {
   "cell_type": "markdown",
   "id": "7eda62b9",
   "metadata": {},
   "source": [
    "#### Predicting Value"
   ]
  },
  {
   "cell_type": "code",
   "execution_count": 12,
   "id": "0399d424",
   "metadata": {},
   "outputs": [
    {
     "name": "stdout",
     "output_type": "stream",
     "text": [
      "[0.00806316]\n"
     ]
    }
   ],
   "source": [
    "inp = np.array([1,0])\n",
    "result_1 = np.dot(inp,weights) + bias\n",
    "result_2 = sigmoid(result_1)\n",
    "print(result_2)"
   ]
  },
  {
   "cell_type": "code",
   "execution_count": 13,
   "id": "f7720f78",
   "metadata": {},
   "outputs": [
    {
     "name": "stdout",
     "output_type": "stream",
     "text": [
      "[0.98573984]\n"
     ]
    }
   ],
   "source": [
    "inp = np.array([1,1])\n",
    "result_1 = np.dot(inp,weights) + bias\n",
    "result_2 = sigmoid(result_1)\n",
    "print(result_2)"
   ]
  },
  {
   "cell_type": "code",
   "execution_count": 14,
   "id": "1709a050",
   "metadata": {},
   "outputs": [
    {
     "name": "stdout",
     "output_type": "stream",
     "text": [
      "[0.00806316]\n"
     ]
    }
   ],
   "source": [
    "inp = np.array([1,0])\n",
    "result_1 = np.dot(inp,weights) + bias\n",
    "result_2 = sigmoid(result_1)\n",
    "print(result_2)"
   ]
  },
  {
   "cell_type": "code",
   "execution_count": 15,
   "id": "d768293e",
   "metadata": {},
   "outputs": [
    {
     "name": "stdout",
     "output_type": "stream",
     "text": [
      "[9.55881943e-07]\n"
     ]
    }
   ],
   "source": [
    "inp = np.array([0,0])\n",
    "result_1 = np.dot(inp,weights) + bias\n",
    "result_2 = sigmoid(result_1)\n",
    "print(result_2)"
   ]
  },
  {
   "cell_type": "code",
   "execution_count": null,
   "id": "694a758f",
   "metadata": {},
   "outputs": [],
   "source": []
  }
 ],
 "metadata": {
  "kernelspec": {
   "display_name": "Python 3 (ipykernel)",
   "language": "python",
   "name": "python3"
  },
  "language_info": {
   "codemirror_mode": {
    "name": "ipython",
    "version": 3
   },
   "file_extension": ".py",
   "mimetype": "text/x-python",
   "name": "python",
   "nbconvert_exporter": "python",
   "pygments_lexer": "ipython3",
   "version": "3.9.12"
  }
 },
 "nbformat": 4,
 "nbformat_minor": 5
}
